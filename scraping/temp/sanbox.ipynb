{
 "cells": [
  {
   "cell_type": "code",
   "execution_count": 4,
   "metadata": {},
   "outputs": [],
   "source": [
    "import requests\n",
    "from bs4 import BeautifulSoup\n",
    "from typing import List, Dict, Optional\n",
    "import pandas as pd\n",
    "from pydantic import BaseModel\n"
   ]
  },
  {
   "cell_type": "code",
   "execution_count": 2,
   "metadata": {},
   "outputs": [],
   "source": [
    "page = requests.get(\"https://www.ikea.lt/lt/search/?q=sofa&page=2\")\n",
    "#page.status_code\n",
    "#page.content\n",
    "soup = BeautifulSoup(page.content, 'html.parser')\n",
    "\n",
    "#print(soup.prettify())\n"
   ]
  },
  {
   "cell_type": "code",
   "execution_count": 5,
   "metadata": {},
   "outputs": [],
   "source": [
    "all_recipe_divs = soup.find_all(\"div\", class_=\"list-row\")\n",
    "\n",
    "results: List[Dict] = []\n",
    "\n",
    "for recipe_div in all_recipe_divs:\n",
    "    recipe_title = recipe_div.find(\"h3\").text.strip().split('\\n')[0] #test paima teksta, strip pasalina \\n, split paima pirma eilut stringo\n",
    "    recipe_amount = recipe_div.find(\"span\").text # keliems zmonems\n",
    "    recipe_link = recipe_div.find(\"a\").get(\"href\")\n",
    "    recipe_image_link = recipe_div.find(\"img\").get(\"src\")\n",
    "    #print(recipe_title)\n",
    "    #print(recipe_link)\n",
    "    #print(recipe_amount)\n",
    "    #print(recipe_image_link)\n",
    "\n",
    "    results.append({\n",
    "        \"title\": recipe_title,\n",
    "        \"recipe_amount\": recipe_amount,\n",
    "        \"recipe_link\": recipe_link,\n",
    "        \"recipe_image_link\": recipe_image_link\n",
    "\n",
    "    })\n",
    "\n",
    "#results\n",
    "\n",
    "#results_data_frame = pd.DataFrame(results)\n",
    "#results_data_frame.to_csv(\"15min.csv\")"
   ]
  },
  {
   "cell_type": "code",
   "execution_count": 18,
   "metadata": {},
   "outputs": [],
   "source": [
    "## RECEPTU SARASAS\n",
    "\n",
    "def extract_recipes_info(url: str) -> List[Dict]:\n",
    "    results: List[Dict] = []\n",
    "    resp = requests.get(url)\n",
    "    \n",
    "    if resp.status_code != 200:\n",
    "        raise Exception(\"Cannot reach page.\")\n",
    "    \n",
    "    soup = BeautifulSoup(resp.content, 'html.parser')\n",
    "\n",
    "    # aprasome html koses elementa is kurios surinksim info\n",
    "    all_recipe_divs = soup.find_all(\"div\", class_=\"list-row\")\n",
    "    \n",
    "    for recipe_div in all_recipe_divs:\n",
    "        recipe_title = recipe_div.find(\"h3\").text.strip().split('\\n')[0] #text paima teksta, strip pasalina \\n, split paima pirma eilut stringo\n",
    "        #recipe_amount = recipe_div.find(\"span\").text\n",
    "        recipe_link = recipe_div.find(\"a\").get(\"href\")\n",
    "        recipe_image_link = recipe_div.find(\"img\").get(\"src\")\n",
    "\n",
    "        results.append({\n",
    "            \"title\": recipe_title,\n",
    "            #\"recipe_amount\": recipe_amount,\n",
    "            \"recipe_link\": recipe_link,\n",
    "            \"recipe_image_link\": recipe_image_link\n",
    "\n",
    "        })\n",
    "\n",
    "    return results\n",
    "\n"
   ]
  },
  {
   "cell_type": "code",
   "execution_count": 20,
   "metadata": {},
   "outputs": [
    {
     "name": "stdout",
     "output_type": "stream",
     "text": [
      "resp yra <Response [200]>\n"
     ]
    },
    {
     "data": {
      "text/plain": [
       "[]"
      ]
     },
     "execution_count": 20,
     "metadata": {},
     "output_type": "execute_result"
    }
   ],
   "source": [
    "extract_recipes_info(\"https://www.15min.lt/maistas/receptai?psl=2000\")\n",
    "#type(test)\n",
    "#ilgis = len(test)\n",
    "#ilgis"
   ]
  },
  {
   "cell_type": "code",
   "execution_count": 6,
   "metadata": {},
   "outputs": [],
   "source": [
    "result: List[Dict] = []\n",
    "\n",
    "for page in range(20, 80):\n",
    "    url = f\"https://www.15min.lt/maistas/receptai?psl={page}\"\n",
    "    result.extend(extract_recipes_info(url))\n",
    "\n",
    "pd.DataFrame(result).to_csv(\"15min.csv\")"
   ]
  },
  {
   "cell_type": "code",
   "execution_count": 46,
   "metadata": {},
   "outputs": [],
   "source": [
    "## Ingredientai\n",
    "resp = requests.get(\"https://www.15min.lt/maistas/receptas/varskes-ir-fermentinio-surio-pyragas-8796\")\n",
    "soup = BeautifulSoup(resp.content, \"html.parser\")\n",
    "all_ingredients: List[Dict] = []\n",
    "\n",
    "recipe_title = soup.find(\"div\", class_=\"recipe-head\").find(\"h1\").text.strip()\n",
    "recipe_image = soup.find(\"div\", class_=\"image\").find(\"img\").get(\"src\")\n",
    "recipe_ingredients = soup.find(\"ul\", class_=\"ingredients\").find_all(\"li\")\n",
    "for ingredient in recipe_ingredients:\n",
    "    the_ingredient = ingredient.find_all(\"span\")\n",
    "    all_ingredients.append({\n",
    "        \"ingredient_name\": the_ingredient[0].text.strip(),\n",
    "        \"ingredient_amount\": the_ingredient[2].text.strip(),\n",
    "        \"ingredient_note\": the_ingredient[3].text.strip()\n",
    "    })\n",
    "\n",
    "#all_ingredients\n",
    "\n",
    "## Paruosimo budas\n",
    "recipe_manual: List[str] = []\n",
    "recipe_making_steps = soup.find(\"div\", class_=\"description text\").find_all(\"p\")\n",
    "\n",
    "recipe_making_steps\n",
    "\n",
    "\n",
    "\n",
    "for step in recipe_making_steps:\n",
    "    stepsas = step.text.strip()\n",
    "    recipe_manual.append(stepsas)"
   ]
  },
  {
   "cell_type": "code",
   "execution_count": 35,
   "metadata": {},
   "outputs": [],
   "source": [
    "## Info apie viena recepta\n",
    "\n",
    "def extract_recipe_ingredients(url: str) -> str:\n",
    "    ## Ingredientai\n",
    "    resp = requests.get(url)\n",
    "    soup = BeautifulSoup(resp.content, \"html.parser\")\n",
    "    all_ingredients: List[Dict] = []\n",
    "\n",
    "    recipe_title = soup.find(\"div\", class_=\"recipe-head\").find(\"h1\").text.strip()\n",
    "    recipe_image = soup.find(\"div\", class_=\"image\").find(\"img\").get(\"src\")\n",
    "    recipe_ingredients = soup.find(\"ul\", class_=\"ingredients\").find_all(\"li\")\n",
    "    for ingredient in recipe_ingredients:\n",
    "        ingredient_span = ingredient.find_all(\"span\")\n",
    "        all_ingredients.append({            \n",
    "                \"ingredient_name\": ingredient_span[0].text.strip(),\n",
    "                \"ingredient_amount\": ingredient_span[2].text.strip(),\n",
    "                \"ingredient_note\": ingredient_span[3].text.strip()\n",
    "            })\n",
    "       \n",
    "    return str(all_ingredients)\n",
    "\n",
    "\n",
    "def extract_making_steps(url: str) -> str:\n",
    "\n",
    "    ## Paruosimo budas\n",
    "    resp = requests.get(url)\n",
    "    soup = BeautifulSoup(resp.content, \"html.parser\")\n",
    "    recipe_manual: List[str] = []\n",
    "    recipe_making_steps = soup.find(\"div\", class_=\"description text\").find_all(\"p\")\n",
    "\n",
    "    for step in recipe_making_steps:\n",
    "        step_to_txt = step.text.strip()\n",
    "        recipe_manual.append(step_to_txt)\n",
    "    \n",
    "    return \"\\n\".join(recipe_manual) \n"
   ]
  },
  {
   "cell_type": "code",
   "execution_count": 36,
   "metadata": {},
   "outputs": [
    {
     "name": "stdout",
     "output_type": "stream",
     "text": [
      "[{'ingredient_name': 'Makaronai', 'ingredient_amount': '250 g', 'ingredient_note': ''}, {'ingredient_name': 'Smidrai', 'ingredient_amount': '10 vnt.', 'ingredient_note': ''}, {'ingredient_name': 'Šalotinis svogūnas', 'ingredient_amount': '1 vnt.', 'ingredient_note': ''}, {'ingredient_name': 'Šoninė', 'ingredient_amount': '200 g', 'ingredient_note': 'rūkytos'}, {'ingredient_name': 'Pomidorai', 'ingredient_amount': '1 sauja', 'ingredient_note': 'vyšninių'}, {'ingredient_name': 'Špinatai', 'ingredient_amount': '1 sauja', 'ingredient_note': ''}, {'ingredient_name': 'Gorgonzolos sūris', 'ingredient_amount': '150 g', 'ingredient_note': ''}, {'ingredient_name': 'Grietinėlė', 'ingredient_amount': '70 ml', 'ingredient_note': ''}, {'ingredient_name': 'Parmezano sūris', 'ingredient_amount': '1 valg. š.', 'ingredient_note': 'tarkuoto'}]\n"
     ]
    }
   ],
   "source": [
    "ing = extract_recipe_ingredients(\"https://www.15min.lt/maistas/receptas/makaronai-su-gorgonzolos-padazu-8788\")\n",
    "\n",
    "#manual = extract_making_steps(\"https://www.15min.lt/maistas/receptas/makaronai-su-gorgonzolos-padazu-8788\")\n",
    "\n",
    "print(ing)\n",
    "#print(manual)"
   ]
  },
  {
   "cell_type": "code",
   "execution_count": 10,
   "metadata": {},
   "outputs": [],
   "source": [
    "## IKEA search products\n",
    "\n",
    "# sudeda paieskos rezultatos is pirmo psl\n",
    "\n",
    "def search_products(url) -> List[Dict]:\n",
    "    \"\"\"Function for doing search in ikea.lt\"\"\"\n",
    "    page = requests.get(url)\n",
    "    soup = BeautifulSoup(page.content, 'html.parser')\n",
    "    products: List[Dict] = []\n",
    "\n",
    "    search_results_all = soup.find_all(\"div\", class_=\"col-6 col-md-4 col-lg-3 p-0 itemBlock\")\n",
    "    for product in search_results_all:\n",
    "        link = product.find(\"div\", class_=\"itemInfo\").a.get(\"href\")\n",
    "        products.append({            \n",
    "                    \"product_name\": product.find(\"div\", class_=\"itemInfo\").a.text.strip(),\n",
    "                    \"product_info\": product.find(\"div\", class_=\"itemInfo\").find(\"div\", class_ = \"itemPrice-wrapper\").span.text.replace(\" €\", \"\"),\n",
    "                    \"product_link\": f\"https://www.ikea.lt{link}\",\n",
    "                    \"product_image\": product.find(\"div\", class_ = \"productImg\").img.get(\"src\")\n",
    "                })\n",
    "\n",
    "    return products\n",
    "    \n",
    "#prod = search_products(\"https://www.ikea.lt/lt/search/?q=kede\")\n",
    "#prod"
   ]
  },
  {
   "cell_type": "code",
   "execution_count": 92,
   "metadata": {},
   "outputs": [],
   "source": [
    "from pydantic import BaseModel\n",
    "\n",
    "__items_per_page__: int = 40\n",
    "__domain__: str = \"https://www.ikea.lt/\"\n",
    "\n",
    "class FurnitureLink(BaseModel):\n",
    "    url: str\n",
    "\n",
    "\n",
    "def _get_page_content(query: str) -> Optional[BeautifulSoup]:\n",
    "        \"\"\"Method to get needed content from search result page or whatever related page.\"\"\"\n",
    "        resp = requests.get(f\"{__domain__}/{query}\")\n",
    "        if resp.status_code == 200:\n",
    "            return BeautifulSoup(resp.content)\n",
    "        raise Exception(\"Cannot get content. Site is unreachable.\")\n",
    "\n",
    "\n",
    "\n",
    "#################################################\n",
    "\n",
    "def _retrieve_items_links(results_count: int, keyword: str) -> List[str]:  #[FurnitureLink]: # prideti self\n",
    "    \"\"\"Method to search furnitures by keyword and save specifed number of results.\"\"\"\n",
    "    results: List[str] = []  #[FurnitureLink] = []        \n",
    "    pages_to_iterate: int = (results_count // __items_per_page__) + 1 # kiek paieskos rezultatu puslapiu naudoti        \n",
    "    \n",
    "    for page_num in range(1, pages_to_iterate + 1):\n",
    "        content = _get_page_content(f\"lt/search/?q={keyword}&page={page_num}\") #pries metoda prideti self\n",
    "        max_number_of_pages = int(content.find(\"ul\", class_=\"pagination mb-0\").find_all(\"li\", class_=\"page-item\")[3].text)\n",
    "        \n",
    "        if content and max_number_of_pages >= pages_to_iterate:\n",
    "                        \n",
    "            all_items_per_page = content.find_all(\"div\", class_=\"col-6 col-md-4 col-lg-3 p-0 itemBlock\")\n",
    "            counter = 0\n",
    "                                                                 \n",
    "            for item in all_items_per_page:\n",
    "                link = item.find(\"div\", class_=\"itemInfo\").a.get(\"href\")\n",
    "                item = f\"https://www.ikea.lt{link}\"\n",
    "                counter += 1                 \n",
    "                while results_count >= counter: \n",
    "                    results.append(item)  #(FurnitureLink(url = item))\n",
    "            else: \n",
    "                print(\"nepabaigtas statemnetas\") # padaryt exceptiona                    \n",
    "\n",
    "        if not all_items_per_page:\n",
    "            break\n",
    "\n",
    "    return results\n",
    "    "
   ]
  },
  {
   "cell_type": "code",
   "execution_count": 93,
   "metadata": {},
   "outputs": [
    {
     "ename": "KeyboardInterrupt",
     "evalue": "",
     "output_type": "error",
     "traceback": [
      "\u001b[1;31m---------------------------------------------------------------------------\u001b[0m",
      "\u001b[1;31mKeyboardInterrupt\u001b[0m                         Traceback (most recent call last)",
      "Cell \u001b[1;32mIn [93], line 1\u001b[0m\n\u001b[1;32m----> 1\u001b[0m test \u001b[39m=\u001b[39m _retrieve_items_links(\u001b[39m85\u001b[39;49m, \u001b[39m\"\u001b[39;49m\u001b[39msofa\u001b[39;49m\u001b[39m\"\u001b[39;49m)\n\u001b[0;32m      2\u001b[0m \u001b[39mprint\u001b[39m(test)\n",
      "Cell \u001b[1;32mIn [92], line 39\u001b[0m, in \u001b[0;36m_retrieve_items_links\u001b[1;34m(results_count, keyword)\u001b[0m\n\u001b[0;32m     37\u001b[0m     item \u001b[39m=\u001b[39m \u001b[39mf\u001b[39m\u001b[39m\"\u001b[39m\u001b[39mhttps://www.ikea.lt\u001b[39m\u001b[39m{\u001b[39;00mlink\u001b[39m}\u001b[39;00m\u001b[39m\"\u001b[39m\n\u001b[0;32m     38\u001b[0m     counter \u001b[39m+\u001b[39m\u001b[39m=\u001b[39m \u001b[39m1\u001b[39m                 \n\u001b[1;32m---> 39\u001b[0m     \u001b[39mwhile\u001b[39;00m results_count \u001b[39m>\u001b[39;49m\u001b[39m=\u001b[39;49m counter: \n\u001b[0;32m     40\u001b[0m         results\u001b[39m.\u001b[39mappend(item)  \u001b[39m#(FurnitureLink(url = item))\u001b[39;00m\n\u001b[0;32m     41\u001b[0m \u001b[39melse\u001b[39;00m: \n",
      "\u001b[1;31mKeyboardInterrupt\u001b[0m: "
     ]
    }
   ],
   "source": [
    "test = _retrieve_items_links(85, \"sofa\")\n",
    "print(test)\n",
    "\n",
    "\n"
   ]
  },
  {
   "cell_type": "code",
   "execution_count": null,
   "metadata": {},
   "outputs": [],
   "source": [
    "\"\"\"\n",
    "keyword: str = \"sofa\"\n",
    "page_num: int = 2\n",
    "\n",
    "\n",
    "content = _get_page_content(f\"lt/search/?q={keyword}&page={page_num}\")\n",
    "max_pages_of_search = int(content.find(\"ul\", class_=\"pagination mb-0\").find_all(\"li\", class_=\"page-item\")[5].text)\n",
    "\n",
    "print(type(max_pages_of_search))\n",
    "print(max_pages_of_search)\n",
    "\"\"\"\n"
   ]
  }
 ],
 "metadata": {
  "kernelspec": {
   "display_name": "Python 3.10.6 64-bit ('3.10.6')",
   "language": "python",
   "name": "python3"
  },
  "language_info": {
   "codemirror_mode": {
    "name": "ipython",
    "version": 3
   },
   "file_extension": ".py",
   "mimetype": "text/x-python",
   "name": "python",
   "nbconvert_exporter": "python",
   "pygments_lexer": "ipython3",
   "version": "3.10.6"
  },
  "orig_nbformat": 4,
  "vscode": {
   "interpreter": {
    "hash": "fd15ff02c2674030d92d029fb961e821d771c4cffa27b5d8a6cd677df156e173"
   }
  }
 },
 "nbformat": 4,
 "nbformat_minor": 2
}
